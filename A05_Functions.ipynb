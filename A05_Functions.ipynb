{
 "cells": [
  {
   "cell_type": "markdown",
   "metadata": {},
   "source": [
    "# Python basis\n",
    "\n",
    "The notebook aims to introduce the fundamental basis of **Python**.\n"
   ]
  },
  {
   "cell_type": "markdown",
   "metadata": {},
   "source": [
    "# Functions\n",
    "\n",
    "User defined **functions** are the right way to start writting your own code\n",
    "\n",
    "The syntaxis is easy, you just take care of **indentation**\n"
   ]
  },
  {
   "cell_type": "markdown",
   "metadata": {},
   "source": [
    "### Example 1: square root\n",
    "\n",
    "Write a function to compute the square of a number"
   ]
  },
  {
   "cell_type": "code",
   "execution_count": 17,
   "metadata": {},
   "outputs": [],
   "source": [
    "def my_square(x):\n",
    "    \"\"\"This function computes the square root of a given number\"\"\"\n",
    "    return x**2"
   ]
  },
  {
   "cell_type": "markdown",
   "metadata": {},
   "source": [
    "Now you can call your function"
   ]
  },
  {
   "cell_type": "code",
   "execution_count": 18,
   "metadata": {},
   "outputs": [
    {
     "name": "stdout",
     "output_type": "stream",
     "text": [
      "The square of 5 is 25\n"
     ]
    }
   ],
   "source": [
    "r  = 5\n",
    "\n",
    "r2 = my_square(r)\n",
    "\n",
    "print(\"The square of %s is %s\" % (r, r2) )"
   ]
  },
  {
   "cell_type": "markdown",
   "metadata": {},
   "source": [
    "Using the interactive help:\n",
    "\n",
    "You just type \"?\" right after the name of the function and you will see the help that we pre-defined."
   ]
  },
  {
   "cell_type": "code",
   "execution_count": 19,
   "metadata": {},
   "outputs": [],
   "source": [
    "#my_square?"
   ]
  },
  {
   "cell_type": "markdown",
   "metadata": {},
   "source": [
    "Wasn't useful enough this help?\n",
    "Try with the \"??\" operator right after the name of the function: it pops up the entire source code of the function, so, you can go in details on how the function was coded."
   ]
  },
  {
   "cell_type": "code",
   "execution_count": 20,
   "metadata": {},
   "outputs": [],
   "source": [
    "#my_square??"
   ]
  },
  {
   "cell_type": "markdown",
   "metadata": {},
   "source": [
    "### Example 2: prime number\n",
    "\n",
    "Write a function that tells whether a number is prime or not. Before any work, check the input data is accptable, reject the data otherwise.\n"
   ]
  },
  {
   "cell_type": "code",
   "execution_count": 21,
   "metadata": {
    "scrolled": true
   },
   "outputs": [],
   "source": [
    "def Isprime(x):\n",
    "    \"\"\"This function takes a natural number x and checks whether it is prime or not.\"\"\"\n",
    "    \n",
    "    if type(x)!=int or x<2:\n",
    "        print(\"wrong input number, try again\")\n",
    "        return\n",
    "    decision = \"no\"\n",
    "    \n",
    "    if x == 2:\n",
    "        decision = \"prime\"\n",
    "    \n",
    "    for n in range(2,x):\n",
    "        #print \"n=\",n, \"modulo=\", x % n\n",
    "        if x % n == 0:\n",
    "            decision = \"no\"\n",
    "            break\n",
    "        else:    \n",
    "            decision = \"prime\"\n",
    "    \n",
    "    if decision == \"prime\":\n",
    "        return True\n",
    "    else:\n",
    "        return False"
   ]
  },
  {
   "cell_type": "markdown",
   "metadata": {},
   "source": [
    "We have used the modulo operator \"%\" and we are ensambling loops, conditionals and break very efficiently. Now, let's check our function:"
   ]
  },
  {
   "cell_type": "code",
   "execution_count": 22,
   "metadata": {},
   "outputs": [
    {
     "data": {
      "text/plain": [
       "False"
      ]
     },
     "execution_count": 22,
     "metadata": {},
     "output_type": "execute_result"
    }
   ],
   "source": [
    "Isprime(48)"
   ]
  },
  {
   "cell_type": "markdown",
   "metadata": {},
   "source": [
    "### Example 3: compute the area\n",
    "\n",
    "Write a function that "
   ]
  },
  {
   "cell_type": "code",
   "execution_count": 23,
   "metadata": {},
   "outputs": [],
   "source": [
    "def calculate_area(dimension1, dimension2, shape=\"triangle\"):\n",
    "    '''\n",
    "    :param dimension1: In case of triangle it is \"base\". For rectangle it is \"length\".\n",
    "    :param dimension2: In case of triangle it is \"height\". For rectangle it is \"width\".\n",
    "    :param shape: Either \"triangle\" or \"rectangle\"\n",
    "    :return: Area of a shape\n",
    "    '''\n",
    "    if shape==\"triangle\":\n",
    "        area=1/2*(dimension1*dimension2) # Triangle area is : 1/2(Base*Height)\n",
    "    elif shape==\"rectangle\":\n",
    "        area=dimension1*dimension2 # Rectangle area is: Length*Width\n",
    "    else:\n",
    "        print(\"***Error: Input shape is neither triangle nor rectangle.\")\n",
    "        area=None # If user didn't supply \"triangle\" or \"rectangle\" as shape then return None\n",
    "    return area"
   ]
  },
  {
   "cell_type": "code",
   "execution_count": 24,
   "metadata": {},
   "outputs": [
    {
     "name": "stdout",
     "output_type": "stream",
     "text": [
      "Area of triangle is: 25.0\n"
     ]
    }
   ],
   "source": [
    "base   = 10\n",
    "height = 5\n",
    "figura = \"triangle\"\n",
    "\n",
    "triangle_area=calculate_area(base, height, figura)\n",
    "\n",
    "print(\"Area of triangle is:\",triangle_area)"
   ]
  },
  {
   "cell_type": "markdown",
   "metadata": {},
   "source": [
    "### Short notation\n",
    "\n",
    "For a simple function you can writhe in a single line\n",
    "\n",
    "Forget about indentation, just use correctly the symbols ':' and ';'"
   ]
  },
  {
   "cell_type": "code",
   "execution_count": 25,
   "metadata": {},
   "outputs": [
    {
     "name": "stdout",
     "output_type": "stream",
     "text": [
      "This is quick definition\n",
      "4\n"
     ]
    }
   ],
   "source": [
    "def mySquare(x): print(\"This is quick definition\"); return x*x\n",
    "\n",
    "x  = 6\n",
    "x2 = mySquare(2)\n",
    "\n",
    "print(x2)"
   ]
  },
  {
   "cell_type": "markdown",
   "metadata": {},
   "source": [
    "# The $\\lambda$ function\n",
    "\n",
    "This is a very compact way to declare functions.\n",
    "\n",
    "Lambda functions: There are also know as anonymous functions because they are unnamed. This function can have any number of arguments but only one expression. Lambda functions, unlike defined functions, always return a variable.\n",
    "The format of a lambda function is  \n",
    "```\n",
    "lambda arguments: expression  \n",
    "```\n",
    "\n",
    "They can look similar to a mathematical expression for evauating a function.  \n",
    "For example:\n",
    "```\n",
    "(lambda x: x**2)(3)\n",
    "```\n",
    "Is the same as mathmatically writing  \n",
    "$f(x) = x^2$ an then evauluating the function $f$ at $x=3$,  \n",
    "$f(3) = 9$"
   ]
  },
  {
   "cell_type": "code",
   "execution_count": 26,
   "metadata": {},
   "outputs": [
    {
     "name": "stdout",
     "output_type": "stream",
     "text": [
      "36\n"
     ]
    }
   ],
   "source": [
    "mySq = lambda x: x**2\n",
    "\n",
    "x  = 6\n",
    "x2 = mySq(x)\n",
    "\n",
    "print(x2)"
   ]
  },
  {
   "cell_type": "code",
   "execution_count": 27,
   "metadata": {},
   "outputs": [
    {
     "name": "stdout",
     "output_type": "stream",
     "text": [
      "64\n"
     ]
    }
   ],
   "source": [
    "print(mySq(8))"
   ]
  },
  {
   "cell_type": "markdown",
   "metadata": {},
   "source": [
    "# HOMEWORK 1\n",
    "\n",
    "\n",
    "Write a function that indicates if an input number is even, if not, then returns twice the number.\n",
    "\n",
    "- The input is a number\n",
    "\n",
    "- The output is a number\n",
    "\n",
    "- Call the function with different inputs an verify its correct operation\n",
    "\n",
    "- Write a description of the function in more than one line\n",
    "\n",
    "- Use the ? and ?? notations"
   ]
  },
  {
   "cell_type": "markdown",
   "metadata": {},
   "source": [
    "# HOMEWORK 2\n",
    "\n",
    "\n",
    "Write a function that solves the quadratic equation $ax^2 + bx + c = 0$\n",
    "\n",
    "- The input is the values of the three coefficients\n",
    "\n",
    "- The output are the values of $x$\n",
    "\n",
    "- Print inside the function the type of data for $x$\n",
    "\n",
    "- Call the function with different inputs an verify its correct operation\n",
    "\n",
    "- Write a description of the function in more than one line\n",
    "\n",
    "- Use the ? and ?? notations"
   ]
  },
  {
   "cell_type": "code",
   "execution_count": null,
   "metadata": {},
   "outputs": [],
   "source": []
  }
 ],
 "metadata": {
  "anaconda-cloud": {},
  "kernelspec": {
   "display_name": "Python 3",
   "language": "python",
   "name": "python3"
  },
  "language_info": {
   "codemirror_mode": {
    "name": "ipython",
    "version": 3
   },
   "file_extension": ".py",
   "mimetype": "text/x-python",
   "name": "python",
   "nbconvert_exporter": "python",
   "pygments_lexer": "ipython3",
   "version": "3.8.3"
  }
 },
 "nbformat": 4,
 "nbformat_minor": 1
}
