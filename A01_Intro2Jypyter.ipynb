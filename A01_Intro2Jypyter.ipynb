{
 "cells": [
  {
   "cell_type": "markdown",
   "metadata": {},
   "source": [
    "# Jupyter Notebooks\n",
    "\n",
    "Jupyter is a web-based interactive development environment that supports multiple programming languages, however most commonly used with the Python programming language.\n",
    "\n",
    "The interactive environment that Jupyter provides enables students, scientists, and researchers to create reproducible analysis and formulate a story within a single document.\n",
    "\n",
    "Lets take a look at an example of a completed Jupyter Notebook: [Example Notebook](http://nbviewer.jupyter.org/github/cossatot/lanf_earthquake_likelihood/blob/master/notebooks/lanf_manuscript_notebook.ipynb)\n",
    "\n",
    "### Some features\n",
    "\n",
    "* File Browser\n",
    "* Markdown Cells & Syntax\n",
    "* Kernels, Variables, & Environment\n",
    "* Command vs. Edit Mode & Shortcuts\n"
   ]
  },
  {
   "cell_type": "markdown",
   "metadata": {},
   "source": [
    "# What is Markdown?\n",
    "\n",
    "Markdown is a markup language that uses plain text formatting syntax.  This means that we can modify the formatting our text with the use of various symbols on our keyboard as indicators.\n",
    "\n",
    "Some examples include:\n",
    "\n",
    "* Headers\n",
    "* Text modifications such as italics and bold\n",
    "* Ordered and Unordered lists\n",
    "* Links\n",
    "* Tables\n",
    "* Images\n",
    "* Etc.\n",
    "\n",
    "Now I'll showcase some examples of how this formatting is done:"
   ]
  },
  {
   "cell_type": "markdown",
   "metadata": {},
   "source": [
    "# Headers:\n",
    "\n",
    "# H1\n",
    "## H2\n",
    "### H3\n",
    "#### H4\n",
    "##### H5\n",
    "###### H6"
   ]
  },
  {
   "cell_type": "markdown",
   "metadata": {},
   "source": [
    "# Text modifications\n",
    "\n",
    "Emphasis, aka italics, with *asterisks* or _underscores_.\n",
    "\n",
    "Strong emphasis, aka bold, with **asterisks** or __underscores__.\n",
    "\n",
    "Combined emphasis with **asterisks and _underscores_**.\n",
    "\n",
    "Strikethrough uses two tildes. ~~Scratch this.~~"
   ]
  },
  {
   "cell_type": "markdown",
   "metadata": {},
   "source": [
    "# Lists\n",
    "\n",
    "1. First ordered list item\n",
    "2. Another item\n",
    "  * Unordered sub-list. \n",
    "1. Actual numbers don't matter, just that it's a number\n",
    "  1. Ordered sub-list\n",
    "4. And another item.\n",
    "\n",
    "* Unordered list can use asterisks\n",
    "- Or minuses\n",
    "+ Or pluses"
   ]
  },
  {
   "cell_type": "markdown",
   "metadata": {},
   "source": [
    "# Links\n",
    "\n",
    "https://www.youtube.com/c/codebasics\n",
    "\n",
    "<https://www.youtube.com/c/codebasics>\n",
    "\n",
    "[Codebasics channel](https://www.youtube.com/c/codebasics)\n",
    "\n",
    "To look into more examples of Markdown syntax and features such as tables, images, etc. head to the following link: [Markdown Reference](https://github.com/adam-p/markdown-here/wiki/Markdown-Cheatsheet)"
   ]
  },
  {
   "cell_type": "markdown",
   "metadata": {},
   "source": [
    "# Kernels, Variables, and Environment\n",
    "\n",
    "A notebook kernel is a “computational engine” that executes the code contained in a Notebook document. There are kernels for various programming languages, however we are solely using the python kernel which executes python code.\n",
    "\n",
    "When a notebook is opened, the associated kernel is automatically launched for our convenience."
   ]
  },
  {
   "cell_type": "code",
   "execution_count": 1,
   "metadata": {},
   "outputs": [
    {
     "name": "stdout",
     "output_type": "stream",
     "text": [
      "This is a python code cell\n"
     ]
    }
   ],
   "source": [
    "# This is python\n",
    "print(\"This is a python code cell\")"
   ]
  },
  {
   "cell_type": "markdown",
   "metadata": {},
   "source": [
    "A kernel is the back-end of our notebook which not only executes our python code, but stores our initialized variables."
   ]
  },
  {
   "cell_type": "code",
   "execution_count": 2,
   "metadata": {},
   "outputs": [
    {
     "name": "stdout",
     "output_type": "stream",
     "text": [
      "x has been set to 1738\n"
     ]
    }
   ],
   "source": [
    "# For example, lets initialize variable x\n",
    "\n",
    "x = 1738\n",
    "\n",
    "print(\"x has been set to \" + str(x))"
   ]
  },
  {
   "cell_type": "code",
   "execution_count": 3,
   "metadata": {},
   "outputs": [
    {
     "name": "stdout",
     "output_type": "stream",
     "text": [
      "1738\n"
     ]
    }
   ],
   "source": [
    "# Print x\n",
    "\n",
    "print(x)"
   ]
  },
  {
   "cell_type": "markdown",
   "metadata": {},
   "source": [
    "Issues arrise when we restart our kernel and attempt to run code with variables that have not been reinitialized.\n",
    "\n",
    "If the kernel is reset, make sure to rerun code where variables are intialized."
   ]
  },
  {
   "cell_type": "code",
   "execution_count": 4,
   "metadata": {},
   "outputs": [
    {
     "name": "stdout",
     "output_type": "stream",
     "text": [
      "What is your name? hfhfh\n",
      "The name you entered is hfhfh\n"
     ]
    }
   ],
   "source": [
    "# We can also run code that accepts input\n",
    "\n",
    "name = input(\"What is your name? \")\n",
    "\n",
    "print(\"The name you entered is \" + name)"
   ]
  },
  {
   "cell_type": "markdown",
   "metadata": {},
   "source": [
    "It is important to note that Jupyter Notebooks have in-line cell execution.  This means that a prior executing cell must complete its operations prior to another cell being executed.  A cell still being executing is indicated by the [*] on the left-hand side of the cell."
   ]
  },
  {
   "cell_type": "code",
   "execution_count": 5,
   "metadata": {},
   "outputs": [
    {
     "name": "stdout",
     "output_type": "stream",
     "text": [
      "This won't print until all prior cells have finished executing.\n"
     ]
    }
   ],
   "source": [
    "print(\"This won't print until all prior cells have finished executing.\")"
   ]
  },
  {
   "cell_type": "markdown",
   "metadata": {},
   "source": [
    "# Command vs. Edit Mode & Shortcuts\n",
    "\n",
    "There is an edit and a command mode for jupyter notebooks.  The mode is easily identifiable by the color of the left border of the cell.\n",
    "\n",
    "Blue = Command Mode.\n",
    "\n",
    "Green = Edit Mode.\n",
    "\n",
    "Command Mode can be toggled by pressing **esc** on your keyboard.\n",
    "\n",
    "Commands can be used to execute notebook functions.  For example, changing the format of a markdown cell or adding line numbers.\n",
    "\n",
    "Lets toggle line numbers while in command mode by pressing **L**."
   ]
  },
  {
   "cell_type": "markdown",
   "metadata": {},
   "source": [
    "# Additional Shortcuts\n",
    "\n",
    "There are a lot of shortcuts that can be used to improve productivity while using Jupyter Notebooks.\n",
    "\n",
    "Here is a list:\n",
    "\n",
    "![Jupyter Notebook Shortcuts](MyImages/shortcuts.png)"
   ]
  },
  {
   "cell_type": "markdown",
   "metadata": {},
   "source": [
    "# How do you install Jupyter Notebooks?\n",
    "\n",
    "Official Installation Guide: https://jupyter.readthedocs.io/en/latest/install.html\n",
    "\n",
    "Jupyter recommends utilizing Anaconda, which is a platform compatible with Windows, macOS, and Linux systems.  \n",
    "\n",
    "Anaconda Download: https://www.anaconda.com/download/#macos"
   ]
  },
  {
   "cell_type": "markdown",
   "metadata": {},
   "source": [
    "# Latex\n",
    "\n",
    "$x(t) = e^{-t/\\sigma}$\n",
    "\n",
    "$f(t) = a \\sin(w_o t)$"
   ]
  },
  {
   "cell_type": "markdown",
   "metadata": {},
   "source": [
    "# Terminal"
   ]
  },
  {
   "cell_type": "code",
   "execution_count": 1,
   "metadata": {},
   "outputs": [
    {
     "name": "stdout",
     "output_type": "stream",
     "text": [
      " El volumen de la unidad C es Windows\n",
      " El número de serie del volumen es: 2296-FAAD\n",
      "\n",
      " Directorio de C:\\Users\\L01046417\\Google Drive\\Python\\Basis\n",
      "\n",
      "09/01/2021  12:05 PM    <DIR>          .\n",
      "09/01/2021  12:05 PM    <DIR>          ..\n",
      "09/01/2021  11:59 AM    <DIR>          .ipynb_checkpoints\n",
      "09/01/2021  11:32 AM    <DIR>          __pycache__\n",
      "09/01/2021  12:01 PM             8,481 A01_Intro2Jypyter.ipynb\n",
      "08/25/2021  03:47 PM            38,900 A02_Basis.ipynb\n",
      "08/21/2021  02:24 PM             7,236 A03_If.ipynb\n",
      "09/01/2021  11:49 AM             9,879 A04_For.ipynb\n",
      "09/01/2021  11:49 AM             8,467 A05_Functions.ipynb\n",
      "09/01/2021  11:52 AM            11,308 A06_Modules.ipynb\n",
      "09/01/2021  11:09 AM               664 A06_Modules_MyModule1.py\n",
      "08/25/2021  03:22 PM             4,692 A07_Classes.ipynb\n",
      "09/01/2021  12:05 PM            33,147 B21_Numpy.ipynb\n",
      "08/25/2021  11:46 AM           484,584 B22_Matplotlib.ipynb\n",
      "09/01/2021  09:32 AM    <DIR>          MyData\n",
      "09/01/2021  09:32 AM    <DIR>          MyImages\n",
      "09/01/2021  11:16 AM    <DIR>          MyModules\n",
      "              10 archivos        607,358 bytes\n",
      "               7 dirs  35,960,111,104 bytes libres\n"
     ]
    }
   ],
   "source": [
    "# Ckeck that you saved the data\n",
    "%ls"
   ]
  },
  {
   "cell_type": "code",
   "execution_count": null,
   "metadata": {},
   "outputs": [],
   "source": []
  }
 ],
 "metadata": {
  "kernelspec": {
   "display_name": "Python 3",
   "language": "python",
   "name": "python3"
  },
  "language_info": {
   "codemirror_mode": {
    "name": "ipython",
    "version": 3
   },
   "file_extension": ".py",
   "mimetype": "text/x-python",
   "name": "python",
   "nbconvert_exporter": "python",
   "pygments_lexer": "ipython3",
   "version": "3.8.3"
  }
 },
 "nbformat": 4,
 "nbformat_minor": 2
}
