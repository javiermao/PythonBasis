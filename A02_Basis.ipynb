{
 "cells": [
  {
   "cell_type": "markdown",
   "metadata": {},
   "source": [
    "# Python basis\n",
    "\n",
    "The notebook aims to introduce the fundamental basis of **Python**.\n"
   ]
  },
  {
   "cell_type": "markdown",
   "metadata": {},
   "source": [
    "# Why Python?\n",
    "\n",
    "### Pros:\n",
    "- Interpreted lenguage\n",
    "- Quick variable declaration\n",
    "- Simple sintaxis\n",
    "- Many especialized libraries\n",
    "- Runs in Windows, Mac, Linux.\n",
    "- Object oriented\n",
    "- free ¡¡\n",
    "\n",
    "### Cons?\n",
    "- Slow? ...cython speeds up a lot!"
   ]
  },
  {
   "cell_type": "markdown",
   "metadata": {},
   "source": [
    "# Your first code\n",
    "\n",
    "Les's start with something simple\n"
   ]
  },
  {
   "cell_type": "code",
   "execution_count": 128,
   "metadata": {
    "scrolled": true
   },
   "outputs": [
    {
     "name": "stdout",
     "output_type": "stream",
     "text": [
      "Hola mundo\n"
     ]
    }
   ],
   "source": [
    "# This a comment and we are going to print \"Hello world\"\n",
    "print(\"Hola mundo\")\n",
    "\n",
    "# This is another comment\n"
   ]
  },
  {
   "cell_type": "markdown",
   "metadata": {},
   "source": [
    "# Comments\n",
    "In python we use # to wrhite a comment in one line\n",
    "\n",
    "Or \"\"\"   \"\"\"  to write comments in several lines"
   ]
  },
  {
   "cell_type": "code",
   "execution_count": 129,
   "metadata": {},
   "outputs": [
    {
     "data": {
      "text/plain": [
       "'All of\\nthese lines\\nare comments\\nand also\\nare ignored\\nby the code'"
      ]
     },
     "execution_count": 129,
     "metadata": {},
     "output_type": "execute_result"
    }
   ],
   "source": [
    "# This line is a cooment and will be ignored by the code\n",
    "\n",
    "\"\"\"All of\n",
    "these lines\n",
    "are comments\n",
    "and also\n",
    "are ignored\n",
    "by the code\"\"\"\n"
   ]
  },
  {
   "cell_type": "markdown",
   "metadata": {},
   "source": [
    "# Basic objects: \n",
    "\n",
    "Integers, floats, complex, strings, and boolean"
   ]
  },
  {
   "cell_type": "code",
   "execution_count": 130,
   "metadata": {
    "scrolled": true
   },
   "outputs": [],
   "source": [
    "#type(5)\n",
    "\n",
    "#type(3.14)\n",
    "\n",
    "#type(3+3j)\n",
    "\n",
    "#type(\"Hello\")\n",
    "\n",
    "#type(True)\n",
    "\n",
    "#type(5), type(3.14), type(3+3j), type(\"Hello\"), type(True)"
   ]
  },
  {
   "cell_type": "markdown",
   "metadata": {},
   "source": [
    "In python you don't need a rigid sintaxis to declare variables, if you type\n",
    "\n",
    "$x=1$\n",
    "\n",
    "python interpretes x as an integer, also, if you type,\n",
    "\n",
    "$x = 1.4$ or $x=1.$ (note the point in this last declaration)\n",
    "\n",
    "**Python** deletes the previous assignation to x and makes a new variable declaration for x as a float.\n",
    "\n",
    "String objects are declared with quotes, either \"\" or '', they are equivalent. For example, star=\"Hello\", or star='Hello', both make the same work.\n"
   ]
  },
  {
   "cell_type": "markdown",
   "metadata": {},
   "source": [
    "Once that you declared a variable, you can latter change the its type:"
   ]
  },
  {
   "cell_type": "code",
   "execution_count": 131,
   "metadata": {
    "scrolled": false
   },
   "outputs": [
    {
     "name": "stdout",
     "output_type": "stream",
     "text": [
      "3.14\n",
      "3\n",
      "(3+0j)\n",
      "3\n",
      "3\n"
     ]
    },
    {
     "data": {
      "text/plain": [
       "(None, str)"
      ]
     },
     "execution_count": 131,
     "metadata": {},
     "output_type": "execute_result"
    }
   ],
   "source": [
    "a=3.14\n",
    "print(a), type(a)\n",
    "\n",
    "a=int(a)\n",
    "print(a), type(a)\n",
    "\n",
    "a=complex(a)\n",
    "print(a), type(a)\n",
    "\n",
    "a=int(a.real)\n",
    "print(a),type(a)\n",
    "\n",
    "a=str(a)\n",
    "print(a),type(a)"
   ]
  },
  {
   "cell_type": "markdown",
   "metadata": {},
   "source": [
    "# Everything is an object\n",
    "\n",
    "In Python everithing is an **object**\n",
    "\n",
    "An object has attributes, methods, and/or functions.\n",
    "\n",
    "Even the simplest variable is an object\n",
    "\n",
    "Check the methods of the any variable by yourself: \n",
    "- Create a variable, e.g., **a=7.89**\n",
    "- Then type **a.** and hit the TAB key and choose one method, then write the interrogation ? and run the cell."
   ]
  },
  {
   "cell_type": "code",
   "execution_count": 132,
   "metadata": {},
   "outputs": [],
   "source": [
    "a=7.89"
   ]
  },
  {
   "cell_type": "code",
   "execution_count": null,
   "metadata": {},
   "outputs": [],
   "source": []
  },
  {
   "cell_type": "code",
   "execution_count": 133,
   "metadata": {},
   "outputs": [
    {
     "data": {
      "text/plain": [
       "(8883350264988303, 1125899906842624)"
      ]
     },
     "execution_count": 133,
     "metadata": {},
     "output_type": "execute_result"
    }
   ],
   "source": [
    "a.as_integer_ratio()"
   ]
  },
  {
   "cell_type": "markdown",
   "metadata": {},
   "source": [
    "Explore other attributes, methods, and/or functions"
   ]
  },
  {
   "cell_type": "code",
   "execution_count": 134,
   "metadata": {},
   "outputs": [
    {
     "data": {
      "text/plain": [
       "0.0"
      ]
     },
     "execution_count": 134,
     "metadata": {},
     "output_type": "execute_result"
    }
   ],
   "source": [
    "a.imag"
   ]
  },
  {
   "cell_type": "markdown",
   "metadata": {},
   "source": [
    "# Caution ¡¡"
   ]
  },
  {
   "cell_type": "code",
   "execution_count": 140,
   "metadata": {},
   "outputs": [],
   "source": [
    "x = 6.8"
   ]
  },
  {
   "cell_type": "code",
   "execution_count": 141,
   "metadata": {},
   "outputs": [],
   "source": [
    "k = x"
   ]
  },
  {
   "cell_type": "code",
   "execution_count": 142,
   "metadata": {},
   "outputs": [
    {
     "name": "stdout",
     "output_type": "stream",
     "text": [
      "6.8\n",
      "6.8\n"
     ]
    }
   ],
   "source": [
    "print(x)\n",
    "print(k)\n"
   ]
  },
  {
   "cell_type": "code",
   "execution_count": 143,
   "metadata": {},
   "outputs": [],
   "source": [
    "x = 4097.826"
   ]
  },
  {
   "cell_type": "code",
   "execution_count": 144,
   "metadata": {},
   "outputs": [
    {
     "name": "stdout",
     "output_type": "stream",
     "text": [
      "4097.826\n",
      "6.8\n"
     ]
    }
   ],
   "source": [
    "print(x)\n",
    "print(k)"
   ]
  },
  {
   "cell_type": "code",
   "execution_count": 148,
   "metadata": {},
   "outputs": [],
   "source": [
    "k = 0.76"
   ]
  },
  {
   "cell_type": "code",
   "execution_count": 149,
   "metadata": {},
   "outputs": [
    {
     "name": "stdout",
     "output_type": "stream",
     "text": [
      "4097.826\n",
      "0.76\n"
     ]
    }
   ],
   "source": [
    "print(x)\n",
    "print(k)"
   ]
  },
  {
   "cell_type": "markdown",
   "metadata": {},
   "source": [
    "# Print"
   ]
  },
  {
   "cell_type": "code",
   "execution_count": 1,
   "metadata": {},
   "outputs": [
    {
     "name": "stdout",
     "output_type": "stream",
     "text": [
      "The values in A is 9\n"
     ]
    }
   ],
   "source": [
    "A = 9\n",
    "print(\"The values in A is\",A)"
   ]
  },
  {
   "cell_type": "code",
   "execution_count": 5,
   "metadata": {},
   "outputs": [
    {
     "name": "stdout",
     "output_type": "stream",
     "text": [
      "The values in A1 is 8.6 \n",
      "and The value in A2 is 3.76\n"
     ]
    }
   ],
   "source": [
    "A1 = 8.6\n",
    "A2 = 3.76\n",
    "\n",
    "print(\"The values in A1 is\",A1,\" and the value in A2 is\",A2)\n",
    "\n",
    "print(\"The values in A1 is %s and the value in A2 is %s\" % (A1,A2) )\n"
   ]
  },
  {
   "cell_type": "markdown",
   "metadata": {},
   "source": [
    "# Your first simple taxes and tip calculator ¡¡\n",
    "\n",
    "Example: calculate how much you should tip after a meal and how much did you expend\n",
    "\n",
    "- The total bill is $meal$ pycoins\n",
    "- You must pay taxes of $16\\%$\n",
    "- You want to tip $10\\%$ of your bill\n",
    "- How much is the tip?\n",
    "- How much did you spend?"
   ]
  },
  {
   "cell_type": "code",
   "execution_count": 32,
   "metadata": {},
   "outputs": [
    {
     "name": "stdout",
     "output_type": "stream",
     "text": [
      "The total bill is 1000 pycoins\n",
      "The meal plus taxes is 1160.0 pycoins\n",
      "The tip is 116.0 pycoins\n",
      "The total cost of your meal is 1276.0 pycoins\n"
     ]
    }
   ],
   "source": [
    "# Here is a nice solution\n",
    "\n",
    "# Total meal\n",
    "meal=1000\n",
    "print(\"The total bill is %s pycoins\" % meal)\n",
    "\n",
    "# Compute taxes and\n",
    "taxes = meal*(16/100)\n",
    "\n",
    "# Compute the total of meal plus taxes\n",
    "mealplustaxes = meal + taxes\n",
    "print(\"The meal plus taxes is %s pycoins\" % mealplustaxes)\n",
    "\n",
    "# Compute the tip\n",
    "tip = mealplustaxes*(10/100)\n",
    "print(\"The tip is %s pycoins\" % tip)\n",
    "\n",
    "# Total cost\n",
    "totalcost = mealplustaxes+tip\n",
    "print(\"The total cost of your meal is %s pycoins\" % totalcost)"
   ]
  },
  {
   "cell_type": "code",
   "execution_count": 33,
   "metadata": {},
   "outputs": [
    {
     "data": {
      "text/plain": [
       "'\\n# Total meal\\nmeal = int(input(\"Total bill? \"))\\n\\n# Compute taxes and\\ntaxes = meal*(16/100)\\n\\n# Compute the total of meal plus taxes\\nmealplustaxes = meal + taxes\\nprint(\"The meal plus taxes is %s pycoins\" % mealplustaxes)\\n\\n# Compute the tip\\nperctip = int(input(\"How much do you wanna tip (in %) \"))\\ntip = mealplustaxes*(perctip/100)\\nprint(\"The tip is %s pycoins\" % tip)\\n\\n# Total cost\\ntotalcost = mealplustaxes+tip\\nprint(\"The total cost of your meal is %s pycoins\" % totalcost)\\n'"
      ]
     },
     "execution_count": 33,
     "metadata": {},
     "output_type": "execute_result"
    }
   ],
   "source": [
    "# Here is a fancy solution\n",
    "\"\"\"\n",
    "# Total meal\n",
    "meal = int(input(\"Total bill? \"))\n",
    "\n",
    "# Compute taxes and\n",
    "taxes = meal*(16/100)\n",
    "\n",
    "# Compute the total of meal plus taxes\n",
    "mealplustaxes = meal + taxes\n",
    "print(\"The meal plus taxes is %s pycoins\" % mealplustaxes)\n",
    "\n",
    "# Compute the tip\n",
    "perctip = int(input(\"How much do you wanna tip (in %) \"))\n",
    "tip = mealplustaxes*(perctip/100)\n",
    "print(\"The tip is %s pycoins\" % tip)\n",
    "\n",
    "# Total cost\n",
    "totalcost = mealplustaxes+tip\n",
    "print(\"The total cost of your meal is %s pycoins\" % totalcost)\n",
    "\"\"\""
   ]
  },
  {
   "cell_type": "markdown",
   "metadata": {},
   "source": [
    "# Strings\n",
    "\n",
    "String variables are sequences\n",
    "\n",
    "You can create a string containing characters and numbers.\n",
    "\n",
    "IMPORTANT: In a sequence of N elements, the index of the first element is 0, and the index of the last element is N-1.\n"
   ]
  },
  {
   "cell_type": "code",
   "execution_count": 6,
   "metadata": {},
   "outputs": [
    {
     "name": "stdout",
     "output_type": "stream",
     "text": [
      "m\n",
      "n\n",
      "0\n",
      "mys\n",
      "mys\n"
     ]
    }
   ],
   "source": [
    "# Create a string\n",
    "s = \"mysTRingL0c0\"\n",
    "\n",
    "# Get some elements of the string\n",
    "si = s[0]\n",
    "print(si)\n",
    "\n",
    "sj = s[6]\n",
    "print(sj)\n",
    "\n",
    "sj = s[-1]\n",
    "print(sj)\n",
    "\n",
    "sj = s[0:3]\n",
    "print(sj)\n",
    "\n",
    "sj = s[:3]\n",
    "print(sj)"
   ]
  },
  {
   "cell_type": "code",
   "execution_count": 8,
   "metadata": {},
   "outputs": [
    {
     "name": "stdout",
     "output_type": "stream",
     "text": [
      "mysTRingL0c0\n",
      "mystringl0c0\n"
     ]
    }
   ],
   "source": [
    "# Explore the attributes, methods, and/or functions\n",
    "print(s)\n",
    "S = s.lower()\n",
    "print(S)"
   ]
  },
  {
   "cell_type": "markdown",
   "metadata": {},
   "source": [
    "You can also check what kind of string variable you have"
   ]
  },
  {
   "cell_type": "code",
   "execution_count": 9,
   "metadata": {},
   "outputs": [
    {
     "name": "stdout",
     "output_type": "stream",
     "text": [
      "False\n",
      "False\n"
     ]
    }
   ],
   "source": [
    "print(s.isalpha())\n",
    "\n",
    "print(S.isdigit())"
   ]
  },
  {
   "cell_type": "markdown",
   "metadata": {},
   "source": [
    "# Lists\n",
    "\n",
    "List of objets"
   ]
  },
  {
   "cell_type": "code",
   "execution_count": 36,
   "metadata": {},
   "outputs": [
    {
     "name": "stdout",
     "output_type": "stream",
     "text": [
      "<class 'list'>\n",
      "[1.3, 'aja', (7+4j)]\n"
     ]
    }
   ],
   "source": [
    "# This is a list of different types of objets\n",
    "x=[1.3,'aja',7+4j]\n",
    "print(type(x))\n",
    "print(x)\n",
    "\n"
   ]
  },
  {
   "cell_type": "code",
   "execution_count": 37,
   "metadata": {},
   "outputs": [
    {
     "name": "stdout",
     "output_type": "stream",
     "text": [
      "<class 'list'>\n",
      "[3, 6, 9, 8, 3]\n"
     ]
    }
   ],
   "source": [
    "# Create a list containing several numerical elements\n",
    "mylist = [3, 6, 9, 8, 3]\n",
    "\n",
    "print(type(mylist))\n",
    "print(mylist)"
   ]
  },
  {
   "cell_type": "code",
   "execution_count": 38,
   "metadata": {},
   "outputs": [
    {
     "name": "stdout",
     "output_type": "stream",
     "text": [
      "<class 'list'>\n",
      "[3, 'seis', 9, 'ocho', 3]\n"
     ]
    }
   ],
   "source": [
    "# Create a list containing several numerical and string elements\n",
    "mylist = [3, 'seis', 9, 'ocho', 3]\n",
    "\n",
    "print(type(mylist))\n",
    "print(mylist)"
   ]
  },
  {
   "cell_type": "markdown",
   "metadata": {},
   "source": [
    "### Accesing elements and get a slide\n",
    "\n",
    "Accessing elements of a list and get\n",
    "\n",
    "Let's start with a list of numbers"
   ]
  },
  {
   "cell_type": "code",
   "execution_count": 1,
   "metadata": {},
   "outputs": [
    {
     "name": "stdout",
     "output_type": "stream",
     "text": [
      "[3, 6, 9, 8, 23, 59, 12]\n"
     ]
    }
   ],
   "source": [
    "l = [3, 6, 9, 8,  23, 59, 12]\n",
    "print(l)\n"
   ]
  },
  {
   "cell_type": "code",
   "execution_count": 2,
   "metadata": {},
   "outputs": [
    {
     "data": {
      "text/plain": [
       "3"
      ]
     },
     "execution_count": 2,
     "metadata": {},
     "output_type": "execute_result"
    }
   ],
   "source": [
    "l[0]"
   ]
  },
  {
   "cell_type": "code",
   "execution_count": 3,
   "metadata": {},
   "outputs": [
    {
     "data": {
      "text/plain": [
       "[3]"
      ]
     },
     "execution_count": 3,
     "metadata": {},
     "output_type": "execute_result"
    }
   ],
   "source": [
    "l[0:1]"
   ]
  },
  {
   "cell_type": "code",
   "execution_count": 4,
   "metadata": {},
   "outputs": [
    {
     "data": {
      "text/plain": [
       "[3, 6, 9, 8]"
      ]
     },
     "execution_count": 4,
     "metadata": {},
     "output_type": "execute_result"
    }
   ],
   "source": [
    "l[0:4]"
   ]
  },
  {
   "cell_type": "code",
   "execution_count": 5,
   "metadata": {},
   "outputs": [
    {
     "data": {
      "text/plain": [
       "[9, 8]"
      ]
     },
     "execution_count": 5,
     "metadata": {},
     "output_type": "execute_result"
    }
   ],
   "source": [
    "l[2:4]"
   ]
  },
  {
   "cell_type": "code",
   "execution_count": 6,
   "metadata": {},
   "outputs": [
    {
     "name": "stdout",
     "output_type": "stream",
     "text": [
      "[3, 6, 9]\n"
     ]
    }
   ],
   "source": [
    "v4 = l[0:3]\n",
    "print(v4)"
   ]
  },
  {
   "cell_type": "code",
   "execution_count": 7,
   "metadata": {},
   "outputs": [
    {
     "name": "stdout",
     "output_type": "stream",
     "text": [
      "[3, 6, 9]\n"
     ]
    }
   ],
   "source": [
    "v4 = l[:3]\n",
    "print(v4)"
   ]
  },
  {
   "cell_type": "code",
   "execution_count": 8,
   "metadata": {},
   "outputs": [
    {
     "name": "stdout",
     "output_type": "stream",
     "text": [
      "12\n"
     ]
    }
   ],
   "source": [
    "vfin = l[-1]\n",
    "print(vfin)"
   ]
  },
  {
   "cell_type": "markdown",
   "metadata": {},
   "source": [
    "Another example"
   ]
  },
  {
   "cell_type": "code",
   "execution_count": 11,
   "metadata": {},
   "outputs": [],
   "source": [
    "x   = [\"Rice\",\"Lentils\",\"Bread\",\"Oranges\",\"Berries\",\"Melon\",\"Eggs\",\"Milk\"]"
   ]
  },
  {
   "cell_type": "code",
   "execution_count": 12,
   "metadata": {},
   "outputs": [
    {
     "data": {
      "text/plain": [
       "'Rice'"
      ]
     },
     "execution_count": 12,
     "metadata": {},
     "output_type": "execute_result"
    }
   ],
   "source": [
    "x[0]"
   ]
  },
  {
   "cell_type": "code",
   "execution_count": 13,
   "metadata": {},
   "outputs": [
    {
     "data": {
      "text/plain": [
       "['Rice']"
      ]
     },
     "execution_count": 13,
     "metadata": {},
     "output_type": "execute_result"
    }
   ],
   "source": [
    "x[0:1]"
   ]
  },
  {
   "cell_type": "code",
   "execution_count": 44,
   "metadata": {},
   "outputs": [
    {
     "data": {
      "text/plain": [
       "['Rice', 'Lentils']"
      ]
     },
     "execution_count": 44,
     "metadata": {},
     "output_type": "execute_result"
    }
   ],
   "source": [
    "x[0:2]"
   ]
  },
  {
   "cell_type": "code",
   "execution_count": 45,
   "metadata": {},
   "outputs": [
    {
     "data": {
      "text/plain": [
       "['Rice', 'Lentils', 'Bread']"
      ]
     },
     "execution_count": 45,
     "metadata": {},
     "output_type": "execute_result"
    }
   ],
   "source": [
    "x[0:3]"
   ]
  },
  {
   "cell_type": "code",
   "execution_count": 46,
   "metadata": {},
   "outputs": [
    {
     "data": {
      "text/plain": [
       "['Bread', 'Oranges', 'Berries', 'Melon']"
      ]
     },
     "execution_count": 46,
     "metadata": {},
     "output_type": "execute_result"
    }
   ],
   "source": [
    "x[2:6]"
   ]
  },
  {
   "cell_type": "code",
   "execution_count": 47,
   "metadata": {},
   "outputs": [
    {
     "data": {
      "text/plain": [
       "'Milk'"
      ]
     },
     "execution_count": 47,
     "metadata": {},
     "output_type": "execute_result"
    }
   ],
   "source": [
    "x[-1]"
   ]
  },
  {
   "cell_type": "markdown",
   "metadata": {},
   "source": [
    "Change the value of an element"
   ]
  },
  {
   "cell_type": "code",
   "execution_count": 17,
   "metadata": {},
   "outputs": [
    {
     "name": "stdout",
     "output_type": "stream",
     "text": [
      "[3, 6, 9, 8, 23, 59, 12]\n"
     ]
    }
   ],
   "source": [
    "l = [3, 6, 9, 8,  23, 59, 12]\n",
    "print(l)"
   ]
  },
  {
   "cell_type": "code",
   "execution_count": 18,
   "metadata": {},
   "outputs": [
    {
     "name": "stdout",
     "output_type": "stream",
     "text": [
      "[3, 847, 9, 8, 23, 59, 12]\n"
     ]
    }
   ],
   "source": [
    "l[1] = 847\n",
    "\n",
    "print(l)"
   ]
  },
  {
   "cell_type": "markdown",
   "metadata": {},
   "source": [
    "### Indexing"
   ]
  },
  {
   "cell_type": "code",
   "execution_count": 48,
   "metadata": {},
   "outputs": [],
   "source": [
    "x   = [\"Rice\",\"Lentils\",\"Bread\",\"Oranges\",\"Berries\",\"Melon\",\"Eggs\",\"Milk\"]"
   ]
  },
  {
   "cell_type": "code",
   "execution_count": 49,
   "metadata": {
    "scrolled": true
   },
   "outputs": [
    {
     "name": "stdout",
     "output_type": "stream",
     "text": [
      "The index of Oranges is 3\n"
     ]
    }
   ],
   "source": [
    "idx = x.index(\"Oranges\")\n",
    "\n",
    "print(\"The index of %s is %s\" % (x[idx],idx) )"
   ]
  },
  {
   "cell_type": "code",
   "execution_count": 10,
   "metadata": {},
   "outputs": [],
   "source": [
    "l = [3, 6, 9, 8,  23, 59, 12]"
   ]
  },
  {
   "cell_type": "code",
   "execution_count": 13,
   "metadata": {},
   "outputs": [
    {
     "name": "stdout",
     "output_type": "stream",
     "text": [
      "The index of 23 is 4\n"
     ]
    }
   ],
   "source": [
    "ind = l.index(23)\n",
    "\n",
    "print(\"The index of %s is %s\" % (l[ind],ind) )"
   ]
  },
  {
   "cell_type": "markdown",
   "metadata": {},
   "source": [
    "### Append elements\n",
    "\n",
    "**append()** adds a new element at the end of the list"
   ]
  },
  {
   "cell_type": "code",
   "execution_count": 50,
   "metadata": {},
   "outputs": [
    {
     "name": "stdout",
     "output_type": "stream",
     "text": [
      "[3, 6, 9, 8, 3]\n",
      "[3, 6, 9, 8, 3, 22]\n"
     ]
    }
   ],
   "source": [
    "mylist = [3, 6, 9, 8, 3]\n",
    "print(mylist)\n",
    "\n",
    "mylist.append(22)\n",
    "print(mylist)"
   ]
  },
  {
   "cell_type": "code",
   "execution_count": 73,
   "metadata": {},
   "outputs": [
    {
     "name": "stdout",
     "output_type": "stream",
     "text": [
      "['Rice', 'Lentils', 'Bread', 'Oranges', 'Berries', 'Melon', 'Eggs', 'Milk']\n",
      "['Rice', 'Lentils', 'Bread', 'Oranges', 'Berries', 'Melon', 'Eggs', 'Milk', 'Soap']\n"
     ]
    }
   ],
   "source": [
    "Mylist = [\"Rice\",\"Lentils\",\"Bread\",\"Oranges\",\"Berries\",\"Melon\",\"Eggs\",\"Milk\"]\n",
    "print(Mylist)\n",
    "\n",
    "newitem = \"Soap\"\n",
    "Mylist.append(newitem)\n",
    "\n",
    "print(Mylist)"
   ]
  },
  {
   "cell_type": "markdown",
   "metadata": {},
   "source": [
    "### Pop out elements of a list\n",
    "\n",
    "**pop()** dropt put elements\n"
   ]
  },
  {
   "cell_type": "code",
   "execution_count": 69,
   "metadata": {},
   "outputs": [
    {
     "name": "stdout",
     "output_type": "stream",
     "text": [
      "['Rice', 'Lentils', 'Bread', 'Oranges', 'Berries', 'Melon', 'Eggs', 'Milk']\n",
      "['Rice', 'Lentils', 'Bread', 'Oranges', 'Berries', 'Eggs', 'Milk']\n"
     ]
    }
   ],
   "source": [
    "x = [\"Rice\",\"Lentils\",\"Bread\",\"Oranges\",\"Berries\",\"Melon\",\"Eggs\",\"Milk\"]\n",
    "print(x)\n",
    "\n",
    "x.pop(5)\n",
    "\n",
    "print(x)"
   ]
  },
  {
   "cell_type": "markdown",
   "metadata": {},
   "source": [
    "### Inserting elements"
   ]
  },
  {
   "cell_type": "code",
   "execution_count": 70,
   "metadata": {},
   "outputs": [
    {
     "name": "stdout",
     "output_type": "stream",
     "text": [
      "['Rice', 'Lentils', 'Bread', 'Oranges', 'Berries', 'Melon', 'Eggs', 'Milk']\n",
      "['Rice', 'Lentils', 'Bread', 'Pasta', 'Oranges', 'Berries', 'Melon', 'Eggs', 'Milk']\n"
     ]
    }
   ],
   "source": [
    "x = [\"Rice\",\"Lentils\",\"Bread\",\"Oranges\",\"Berries\",\"Melon\",\"Eggs\",\"Milk\"]\n",
    "print(x)\n",
    "\n",
    "x.insert(3,\"Pasta\")\n",
    "print(x)\n"
   ]
  },
  {
   "cell_type": "markdown",
   "metadata": {},
   "source": [
    "### Strings\n",
    "\n",
    "All these indexin operations also work with strings"
   ]
  },
  {
   "cell_type": "code",
   "execution_count": 53,
   "metadata": {
    "scrolled": true
   },
   "outputs": [
    {
     "name": "stdout",
     "output_type": "stream",
     "text": [
      "1\n",
      "y\n"
     ]
    }
   ],
   "source": [
    "# Create a string\n",
    "s = \"mysTRingL0c0\"\n",
    "\n",
    "print(s.index('y'))\n",
    "print(s[1])"
   ]
  },
  {
   "cell_type": "markdown",
   "metadata": {},
   "source": [
    "### Reverse the elements of a list \n",
    "\n",
    "Reverse the string \"nufsinohtyp\" directly from the lists attributes\n"
   ]
  },
  {
   "cell_type": "code",
   "execution_count": 54,
   "metadata": {},
   "outputs": [
    {
     "name": "stdout",
     "output_type": "stream",
     "text": [
      "ecitcarptsujysaednanufsinohtyp\n"
     ]
    }
   ],
   "source": [
    "s=\"ecitcarptsujysaednanufsinohtyp\"\n",
    "print(s)"
   ]
  },
  {
   "cell_type": "code",
   "execution_count": 55,
   "metadata": {},
   "outputs": [
    {
     "name": "stdout",
     "output_type": "stream",
     "text": [
      "pythonisfunandeasyjustpractice\n"
     ]
    }
   ],
   "source": [
    "print(s[::-1])"
   ]
  },
  {
   "cell_type": "markdown",
   "metadata": {},
   "source": [
    "### Length of objects in a list\n",
    "\n",
    "Very often, you want to know what is the length of your list:"
   ]
  },
  {
   "cell_type": "code",
   "execution_count": 56,
   "metadata": {},
   "outputs": [
    {
     "name": "stdout",
     "output_type": "stream",
     "text": [
      "[3, 6, 9, 8, 23, 59, 12]\n",
      "7\n",
      "The length of mylist is 7\n"
     ]
    }
   ],
   "source": [
    "mylist = [3, 6, 9, 8,  23, 59, 12]\n",
    "print(mylist)\n",
    "\n",
    "x = len(mylist)\n",
    "print(x)\n",
    "\n",
    "print(\"The length of mylist is %s\" % x )"
   ]
  },
  {
   "cell_type": "markdown",
   "metadata": {},
   "source": [
    "### Append"
   ]
  },
  {
   "cell_type": "code",
   "execution_count": 78,
   "metadata": {},
   "outputs": [
    {
     "name": "stdout",
     "output_type": "stream",
     "text": [
      "['Rice', 'Lentils', 'Bread', 'Oranges', 'Berries', 'Melon', 'Eggs', 'Milk']\n",
      "['Soap', 'Chips', 'Soda']\n",
      "['Rice', 'Lentils', 'Bread', 'Oranges', 'Berries', 'Melon', 'Eggs', 'Milk', 'Soap', 'Chips', 'Soda']\n"
     ]
    }
   ],
   "source": [
    "List1 = [\"Rice\",\"Lentils\",\"Bread\",\"Oranges\",\"Berries\",\"Melon\",\"Eggs\",\"Milk\"]\n",
    "List2 = [\"Soap\",\"Chips\",\"Soda\"]\n",
    "\n",
    "List  = List1 + List2\n",
    "\n",
    "print(List1)\n",
    "print(List2)\n",
    "print(List)\n"
   ]
  },
  {
   "cell_type": "code",
   "execution_count": 79,
   "metadata": {},
   "outputs": [],
   "source": [
    "# But this does not work:\n",
    "# List + \"Shampoo\"\n",
    "# Why?"
   ]
  },
  {
   "cell_type": "markdown",
   "metadata": {},
   "source": [
    "# Dictionaries\n",
    "\n",
    "Allows to store key-value pairs. They are also kwnon as maps, hashtables, associate arrays"
   ]
  },
  {
   "cell_type": "code",
   "execution_count": 110,
   "metadata": {},
   "outputs": [],
   "source": [
    "mydir = {}\n",
    "\n",
    "\"\"\"\n",
    "mydir['Andrew']   = 2984\n",
    "mydir['Claudia']  = 683564\n",
    "mydir['Vanesa']   = 298\n",
    "mydir['Juan']     = 6835\n",
    "mydir['Maria']    = 357\n",
    "mydir['Jhon']     = 83564\n",
    "mydir['Luke']     = 357\n",
    "mydir['Blake']    = 9728\n",
    "\"\"\"\n",
    "\n",
    "mydir = {'Andrew':2984,'Claudia':683564,'Vanesa':298,'Juan':6835,'Maria':357,'Jhon':83564,'Luke':357,'Blake':9728}"
   ]
  },
  {
   "cell_type": "code",
   "execution_count": 111,
   "metadata": {},
   "outputs": [
    {
     "data": {
      "text/plain": [
       "{'Andrew': 2984,\n",
       " 'Claudia': 683564,\n",
       " 'Vanesa': 298,\n",
       " 'Juan': 6835,\n",
       " 'Maria': 357,\n",
       " 'Jhon': 83564,\n",
       " 'Luke': 357,\n",
       " 'Blake': 9728}"
      ]
     },
     "execution_count": 111,
     "metadata": {},
     "output_type": "execute_result"
    }
   ],
   "source": [
    "mydir"
   ]
  },
  {
   "cell_type": "markdown",
   "metadata": {},
   "source": [
    "Note that the dictionary is made of keys and values"
   ]
  },
  {
   "cell_type": "code",
   "execution_count": 112,
   "metadata": {},
   "outputs": [
    {
     "data": {
      "text/plain": [
       "dict_keys(['Andrew', 'Claudia', 'Vanesa', 'Juan', 'Maria', 'Jhon', 'Luke', 'Blake'])"
      ]
     },
     "execution_count": 112,
     "metadata": {},
     "output_type": "execute_result"
    }
   ],
   "source": [
    "mydir.keys()"
   ]
  },
  {
   "cell_type": "code",
   "execution_count": 113,
   "metadata": {},
   "outputs": [
    {
     "data": {
      "text/plain": [
       "dict_values([2984, 683564, 298, 6835, 357, 83564, 357, 9728])"
      ]
     },
     "execution_count": 113,
     "metadata": {},
     "output_type": "execute_result"
    }
   ],
   "source": [
    "mydir.values()"
   ]
  },
  {
   "cell_type": "code",
   "execution_count": 114,
   "metadata": {},
   "outputs": [
    {
     "data": {
      "text/plain": [
       "dict_items([('Andrew', 2984), ('Claudia', 683564), ('Vanesa', 298), ('Juan', 6835), ('Maria', 357), ('Jhon', 83564), ('Luke', 357), ('Blake', 9728)])"
      ]
     },
     "execution_count": 114,
     "metadata": {},
     "output_type": "execute_result"
    }
   ],
   "source": [
    "mydir.items()"
   ]
  },
  {
   "cell_type": "markdown",
   "metadata": {},
   "source": [
    "We can access an element value using the element key:"
   ]
  },
  {
   "cell_type": "code",
   "execution_count": 115,
   "metadata": {},
   "outputs": [
    {
     "data": {
      "text/plain": [
       "298"
      ]
     },
     "execution_count": 115,
     "metadata": {},
     "output_type": "execute_result"
    }
   ],
   "source": [
    "mydir[\"Vanesa\"]"
   ]
  },
  {
   "cell_type": "code",
   "execution_count": 116,
   "metadata": {},
   "outputs": [],
   "source": [
    "#mydir[\"Vatoloco\"]"
   ]
  },
  {
   "cell_type": "markdown",
   "metadata": {},
   "source": [
    "Or we can change the value of a key"
   ]
  },
  {
   "cell_type": "code",
   "execution_count": 117,
   "metadata": {},
   "outputs": [
    {
     "data": {
      "text/plain": [
       "11222"
      ]
     },
     "execution_count": 117,
     "metadata": {},
     "output_type": "execute_result"
    }
   ],
   "source": [
    "mydir['Vanesa']   = 11222\n",
    "mydir[\"Vanesa\"]"
   ]
  },
  {
   "cell_type": "markdown",
   "metadata": {},
   "source": [
    "We can also check the existence of a key in the dictionary"
   ]
  },
  {
   "cell_type": "code",
   "execution_count": 120,
   "metadata": {},
   "outputs": [
    {
     "data": {
      "text/plain": [
       "True"
      ]
     },
     "execution_count": 120,
     "metadata": {},
     "output_type": "execute_result"
    }
   ],
   "source": [
    "isVanesa = \"Vanesa\" in mydir\n",
    "isVanesa"
   ]
  },
  {
   "cell_type": "code",
   "execution_count": 121,
   "metadata": {},
   "outputs": [
    {
     "data": {
      "text/plain": [
       "False"
      ]
     },
     "execution_count": 121,
     "metadata": {},
     "output_type": "execute_result"
    }
   ],
   "source": [
    "isVanesa = \"Peter\" in mydir\n",
    "isVanesa"
   ]
  },
  {
   "cell_type": "markdown",
   "metadata": {},
   "source": [
    "We can add or delete new key-value pairs"
   ]
  },
  {
   "cell_type": "code",
   "execution_count": 122,
   "metadata": {},
   "outputs": [],
   "source": [
    "mydir['Fabiola']   = 5784092"
   ]
  },
  {
   "cell_type": "code",
   "execution_count": 123,
   "metadata": {},
   "outputs": [
    {
     "data": {
      "text/plain": [
       "{'Andrew': 2984,\n",
       " 'Claudia': 683564,\n",
       " 'Vanesa': 11222,\n",
       " 'Juan': 6835,\n",
       " 'Maria': 357,\n",
       " 'Jhon': 83564,\n",
       " 'Luke': 357,\n",
       " 'Blake': 9728,\n",
       " 'Fabiola': 5784092}"
      ]
     },
     "execution_count": 123,
     "metadata": {},
     "output_type": "execute_result"
    }
   ],
   "source": [
    "mydir"
   ]
  },
  {
   "cell_type": "code",
   "execution_count": 124,
   "metadata": {},
   "outputs": [],
   "source": [
    "del mydir[\"Juan\"]"
   ]
  },
  {
   "cell_type": "code",
   "execution_count": 125,
   "metadata": {},
   "outputs": [
    {
     "data": {
      "text/plain": [
       "{'Andrew': 2984,\n",
       " 'Claudia': 683564,\n",
       " 'Vanesa': 11222,\n",
       " 'Maria': 357,\n",
       " 'Jhon': 83564,\n",
       " 'Luke': 357,\n",
       " 'Blake': 9728,\n",
       " 'Fabiola': 5784092}"
      ]
     },
     "execution_count": 125,
     "metadata": {},
     "output_type": "execute_result"
    }
   ],
   "source": [
    "mydir"
   ]
  },
  {
   "cell_type": "code",
   "execution_count": 126,
   "metadata": {},
   "outputs": [
    {
     "name": "stdout",
     "output_type": "stream",
     "text": [
      "Key:  Andrew   -  Value:  2984\n",
      "Key:  Claudia   -  Value:  683564\n",
      "Key:  Vanesa   -  Value:  11222\n",
      "Key:  Maria   -  Value:  357\n",
      "Key:  Jhon   -  Value:  83564\n",
      "Key:  Luke   -  Value:  357\n",
      "Key:  Blake   -  Value:  9728\n",
      "Key:  Fabiola   -  Value:  5784092\n"
     ]
    }
   ],
   "source": [
    "for ikey in mydir:\n",
    "    print(\"Key: \", ikey, \"  -  Value: \", mydir[ikey])"
   ]
  },
  {
   "cell_type": "code",
   "execution_count": 151,
   "metadata": {},
   "outputs": [
    {
     "data": {
      "text/plain": [
       "{}"
      ]
     },
     "execution_count": 151,
     "metadata": {},
     "output_type": "execute_result"
    }
   ],
   "source": [
    "mydir.clear()\n",
    "mydir"
   ]
  },
  {
   "cell_type": "markdown",
   "metadata": {},
   "source": [
    "# Tuples\n",
    "\n",
    "Tuple is a list of values grouped toguether"
   ]
  },
  {
   "cell_type": "code",
   "execution_count": 155,
   "metadata": {},
   "outputs": [],
   "source": [
    "p = (3,7,6,7,4)"
   ]
  },
  {
   "cell_type": "code",
   "execution_count": 156,
   "metadata": {},
   "outputs": [
    {
     "name": "stdout",
     "output_type": "stream",
     "text": [
      "(3, 7, 6, 7, 4)\n",
      "3\n",
      "7\n"
     ]
    }
   ],
   "source": [
    "print(p)\n",
    "print(p[0])\n",
    "print(p[1])"
   ]
  },
  {
   "cell_type": "markdown",
   "metadata": {},
   "source": [
    "List: homogeneosu (all values have similar meaning)\n",
    "\n",
    "Tuple: heterogenepus (all values have different meaning)"
   ]
  },
  {
   "cell_type": "code",
   "execution_count": 160,
   "metadata": {},
   "outputs": [
    {
     "data": {
      "text/plain": [
       "7"
      ]
     },
     "execution_count": 160,
     "metadata": {},
     "output_type": "execute_result"
    }
   ],
   "source": [
    "p[3]"
   ]
  },
  {
   "cell_type": "code",
   "execution_count": 161,
   "metadata": {},
   "outputs": [],
   "source": [
    "#p[3] = 54"
   ]
  },
  {
   "cell_type": "markdown",
   "metadata": {},
   "source": [
    "# Range\n",
    "\n",
    "**range()** returns a sequence of numbers, starting from 0 by default, and increments by 1 (by default), and stops before a specified number.\n",
    "\n",
    "**range(start,stop,step)** creates a sequence of integers from start (inclusive) to stop (exclusive) separated by step. \n",
    "\n",
    "\n",
    "\n",
    "Defaults are start=0 and step=1."
   ]
  },
  {
   "cell_type": "code",
   "execution_count": 82,
   "metadata": {},
   "outputs": [
    {
     "name": "stdout",
     "output_type": "stream",
     "text": [
      "<class 'range'>\n",
      "range(0, 10)\n",
      "0\n",
      "1\n",
      "9\n"
     ]
    }
   ],
   "source": [
    "m = range(10)\n",
    "\n",
    "print(type(m))\n",
    "print(m)\n",
    "print(m[0])\n",
    "print(m[1])\n",
    "print(m[-1])"
   ]
  },
  {
   "cell_type": "code",
   "execution_count": 19,
   "metadata": {},
   "outputs": [
    {
     "name": "stdout",
     "output_type": "stream",
     "text": [
      "<class 'range'>\n",
      "range(2, 20, 2)\n",
      "2\n",
      "4\n",
      "6\n",
      "8\n"
     ]
    }
   ],
   "source": [
    "# Create a sequence of numbers from to 19 with increments of 2\n",
    "m = range(2,20,2)\n",
    "\n",
    "print(type(m))\n",
    "print(m)\n",
    "\n",
    "print(m[0])\n",
    "print(m[1])\n",
    "print(m[2])\n",
    "print(m[3])"
   ]
  },
  {
   "cell_type": "code",
   "execution_count": 20,
   "metadata": {},
   "outputs": [
    {
     "name": "stdout",
     "output_type": "stream",
     "text": [
      "2\n",
      "4\n",
      "6\n",
      "8\n",
      "10\n",
      "12\n",
      "14\n",
      "16\n",
      "18\n"
     ]
    }
   ],
   "source": [
    "# Print each element in the list. Details about the bucle for later\n",
    "for n in m:\n",
    "      print(n)"
   ]
  },
  {
   "cell_type": "markdown",
   "metadata": {},
   "source": [
    "# Short notations for lists: combining range and for loop\n",
    "\n",
    "There are ways to create numerical lists with each number in the list having a special meaning or following a sequence\n",
    "\n",
    "We use the **for loop** whose details will be addreesed later on"
   ]
  },
  {
   "cell_type": "markdown",
   "metadata": {},
   "source": [
    "Create a list of number from 0 to 4"
   ]
  },
  {
   "cell_type": "code",
   "execution_count": 11,
   "metadata": {},
   "outputs": [
    {
     "name": "stdout",
     "output_type": "stream",
     "text": [
      "range(0, 5)\n",
      "2\n",
      "<class 'range'>\n"
     ]
    }
   ],
   "source": [
    "x = range(5)\n",
    "\n",
    "print(x)\n",
    "print(x[2])\n",
    "print(type(x))"
   ]
  },
  {
   "cell_type": "code",
   "execution_count": 12,
   "metadata": {},
   "outputs": [
    {
     "name": "stdout",
     "output_type": "stream",
     "text": [
      "[0, 1, 2, 3, 4, 5, 6, 7, 8, 9]\n",
      "2\n",
      "<class 'list'>\n"
     ]
    }
   ],
   "source": [
    "a = [x for x in range(10)]\n",
    "\n",
    "print(a)\n",
    "print(a[2])\n",
    "print(type(a))"
   ]
  },
  {
   "cell_type": "markdown",
   "metadata": {},
   "source": [
    "Create a list of the squares from 0 to 9"
   ]
  },
  {
   "cell_type": "code",
   "execution_count": 2,
   "metadata": {},
   "outputs": [
    {
     "name": "stdout",
     "output_type": "stream",
     "text": [
      "[0, 1, 4, 9, 16, 25, 36, 49, 64, 81]\n"
     ]
    }
   ],
   "source": [
    "y = [x**2 for x in range(10)]\n",
    "\n",
    "print(y)"
   ]
  },
  {
   "cell_type": "markdown",
   "metadata": {},
   "source": [
    "Create a list of the even integers from 0 to 14"
   ]
  },
  {
   "cell_type": "code",
   "execution_count": 3,
   "metadata": {},
   "outputs": [
    {
     "name": "stdout",
     "output_type": "stream",
     "text": [
      "[0, 2, 4, 6, 8, 10, 12, 14]\n"
     ]
    }
   ],
   "source": [
    "m = [n for n in range(15) if n%2==0]\n",
    "\n",
    "print(m)"
   ]
  },
  {
   "cell_type": "code",
   "execution_count": null,
   "metadata": {},
   "outputs": [],
   "source": []
  }
 ],
 "metadata": {
  "anaconda-cloud": {},
  "kernelspec": {
   "display_name": "Python 3",
   "language": "python",
   "name": "python3"
  },
  "language_info": {
   "codemirror_mode": {
    "name": "ipython",
    "version": 3
   },
   "file_extension": ".py",
   "mimetype": "text/x-python",
   "name": "python",
   "nbconvert_exporter": "python",
   "pygments_lexer": "ipython3",
   "version": "3.8.3"
  }
 },
 "nbformat": 4,
 "nbformat_minor": 1
}
