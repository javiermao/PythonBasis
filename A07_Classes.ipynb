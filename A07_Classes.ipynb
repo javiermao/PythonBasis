{
 "cells": [
  {
   "cell_type": "markdown",
   "metadata": {},
   "source": [
    "# Python basis\n",
    "\n",
    "The notebook aims to introduce the fundamental basis of **Python**.\n"
   ]
  },
  {
   "cell_type": "markdown",
   "metadata": {},
   "source": [
    "# Classes\n",
    "\n",
    "A **class** is just a way of organizing and producing objects with similar attributes and methods.\n",
    "\n",
    "A basic class consists of:\n",
    "\n",
    "1) the class keyword\n",
    "\n",
    "2) the name of the class\n",
    "\n",
    "3) the class from which inherits, for example the class: object\n",
    "\n",
    "4) the __init__ statement.\n",
    "\n",
    "**class NewClass(object):**\n",
    "\n",
    "**NewClass** inherits the powers and attributes of the Python **object**. \n",
    "\n",
    "By convention, our class names start with a capital letter.\n"
   ]
  },
  {
   "cell_type": "code",
   "execution_count": 28,
   "metadata": {},
   "outputs": [],
   "source": [
    "class DarkMatter(object):\n",
    "    \"\"\"This class contains some particle candidate for Dark Matter\"\"\"\n",
    "    is_detected=False   # member variable, available to all the members of the class\n",
    "\n",
    "    def __init__(self,name,spin,mass=1):\n",
    "        self.name=str(name)\n",
    "        self.spin=spin\n",
    "        self.mass=float(mass)\n",
    "            \n",
    "    \n",
    "    def description(self):\n",
    "        \"\"\"This method tells what kind of DM particle you have\"\"\"\n",
    "        print(\"The %s:\" % self.name)\n",
    "        if isinstance( self.spin, int):\n",
    "            print(\"This is a bosonic particle of spin=%s,\" % self.spin)\n",
    "        elif self.spin==0.5:\n",
    "            print(\"This is a fermionic particle of spin=%s,\" % self.spin)\n",
    "        else: \n",
    "            print(\"This is not an elementary particle,\")\n",
    "        #\n",
    "        if self.mass>=1e6:\n",
    "            print(\"it's very heavy with mass=%s eV\" % self.mass)\n",
    "        elif self.mass<1e6 and self.mass>=1e3:\n",
    "            print(\"it isn't too heavy, with mass=%s eV\" % self.mass)\n",
    "        elif self.mass<1e3 and self.mass>1:\n",
    "            print(\"it's light with mass=%s eV\" % self.mass)\n",
    "        elif self.mass<=1:\n",
    "            print(\"it's seriously light with mass=%s eV\" % self.mass)\n",
    "        else:\n",
    "            print(\"with a mass more obscure than dark matter itself\")"
   ]
  },
  {
   "cell_type": "code",
   "execution_count": 29,
   "metadata": {},
   "outputs": [],
   "source": [
    "# Here we declare a DarkMatter object named Ns. DarkMatter takes exactly 3 arguments.\n",
    "\n",
    "Ns = DarkMatter(name='Sterile Neutrino',spin=0.5)"
   ]
  },
  {
   "cell_type": "code",
   "execution_count": 30,
   "metadata": {},
   "outputs": [
    {
     "name": "stdout",
     "output_type": "stream",
     "text": [
      "The Sterile Neutrino:\n",
      "This is a fermionic particle of spin=0.5,\n",
      "it's seriously light with mass=1.0 eV\n"
     ]
    }
   ],
   "source": [
    "# Here we call the description method of our object Ns\n",
    "\n",
    "Ns.description()"
   ]
  },
  {
   "cell_type": "code",
   "execution_count": 31,
   "metadata": {},
   "outputs": [
    {
     "data": {
      "text/plain": [
       "False"
      ]
     },
     "execution_count": 31,
     "metadata": {},
     "output_type": "execute_result"
    }
   ],
   "source": [
    "# Access the member variable\n",
    "\n",
    "Ns.is_detected"
   ]
  },
  {
   "cell_type": "code",
   "execution_count": 32,
   "metadata": {},
   "outputs": [],
   "source": [
    "# Access the user defined documentation\n",
    "\n",
    "Ns?\n",
    "Ns.description?"
   ]
  },
  {
   "cell_type": "markdown",
   "metadata": {},
   "source": [
    "# Exercising with classes\n",
    "\n",
    "Now define your favorite dark matter particle object, for example the Axion, spin=0, mass~10$^5$, whatever you want, specially look for wrong argument values and robustness."
   ]
  },
  {
   "cell_type": "code",
   "execution_count": null,
   "metadata": {},
   "outputs": [],
   "source": []
  }
 ],
 "metadata": {
  "anaconda-cloud": {},
  "kernelspec": {
   "display_name": "Python 3",
   "language": "python",
   "name": "python3"
  },
  "language_info": {
   "codemirror_mode": {
    "name": "ipython",
    "version": 3
   },
   "file_extension": ".py",
   "mimetype": "text/x-python",
   "name": "python",
   "nbconvert_exporter": "python",
   "pygments_lexer": "ipython3",
   "version": "3.8.3"
  }
 },
 "nbformat": 4,
 "nbformat_minor": 1
}
