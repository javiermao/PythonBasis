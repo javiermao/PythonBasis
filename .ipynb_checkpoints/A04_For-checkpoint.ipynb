{
 "cells": [
  {
   "cell_type": "markdown",
   "metadata": {},
   "source": [
    "# Python basis\n",
    "\n",
    "The notebook aims to introduce the fundamental basis of **Python**.\n"
   ]
  },
  {
   "cell_type": "markdown",
   "metadata": {},
   "source": [
    "# The \"for\" loop\n",
    "\n",
    "A **for loop** is used for iterating over a sequence (that is either a list, a tuple, a dictionary, a set, or a string).\n",
    "\n",
    "With the for loop we can execute a set of statements, once for each item in a list, tuple, set etc.\n",
    "\n",
    "The syntax of the **for loop** is:\n",
    "\n",
    "----------------------\n",
    "\n",
    "*for val in sequence:*\n",
    "\n",
    "    loop body\n",
    "\n",
    "----------------------\n",
    "\n",
    "Here, val is the variable that takes the value of the item inside the sequence on each iteration.\n",
    "\n",
    "Loop continues until we reach the last item in the sequence. The body of for loop is separated from the rest of the code using indentation.\n"
   ]
  },
  {
   "cell_type": "markdown",
   "metadata": {},
   "source": [
    "# A simple example\n",
    "\n",
    "Print each element in a list"
   ]
  },
  {
   "cell_type": "code",
   "execution_count": 1,
   "metadata": {},
   "outputs": [
    {
     "name": "stdout",
     "output_type": "stream",
     "text": [
      "aja\n",
      "todo\n",
      "bien\n",
      "si\n",
      "o\n",
      "no\n"
     ]
    }
   ],
   "source": [
    "a = ['aja', 'todo', 'bien', 'si', 'o', 'no']\n",
    "\n",
    "for i in a:\n",
    "    print(i)"
   ]
  },
  {
   "cell_type": "markdown",
   "metadata": {},
   "source": [
    "# Indentation\n",
    "\n",
    "<span style='color:Blue'> **Important remarks**  </span>\n",
    "\n",
    "It is importamt to know that **Python** relies on indentation (whitespace at the beginning of a line) to define scope in the code. Other programming languages often use curly-brackets for this purpose.\n",
    "\n",
    "Indentation is part of syntaxis ¡¡"
   ]
  },
  {
   "cell_type": "markdown",
   "metadata": {},
   "source": [
    "Chek the next example where we have added carefully indentation for the \"for\" loop and the \"if\" conditional"
   ]
  },
  {
   "cell_type": "code",
   "execution_count": 2,
   "metadata": {},
   "outputs": [
    {
     "name": "stdout",
     "output_type": "stream",
     "text": [
      "0\n",
      "number 0 is forviden\n",
      "1\n",
      "2\n",
      "3\n",
      "4\n",
      "5\n",
      "6\n",
      "7\n",
      "8\n",
      "9\n",
      "[1.0, 0.5, 0.3333333333333333, 0.25, 0.2, 0.16666666666666666, 0.14285714285714285, 0.125, 0.1111111111111111]\n"
     ]
    }
   ],
   "source": [
    "quotlist=[]\n",
    "\n",
    "for idx in range(10):\n",
    "    print(idx)\n",
    "    if idx!=0:\n",
    "        quotlist.append( 1./idx )\n",
    "    else:\n",
    "        print(\"number 0 is forviden\")\n",
    "\n",
    "print(quotlist)"
   ]
  },
  {
   "cell_type": "markdown",
   "metadata": {},
   "source": [
    "# More examples\n",
    "\n",
    "More examples"
   ]
  },
  {
   "cell_type": "code",
   "execution_count": 3,
   "metadata": {},
   "outputs": [
    {
     "name": "stdout",
     "output_type": "stream",
     "text": [
      "apple\n",
      "banana\n",
      "cherry\n"
     ]
    }
   ],
   "source": [
    "for x in [\"apple\", \"banana\", \"cherry\"]:\n",
    "    print(x)"
   ]
  },
  {
   "cell_type": "markdown",
   "metadata": {},
   "source": [
    "Loop through the letters in the word \"banana\":"
   ]
  },
  {
   "cell_type": "code",
   "execution_count": 4,
   "metadata": {},
   "outputs": [
    {
     "name": "stdout",
     "output_type": "stream",
     "text": [
      "b\n",
      "a\n",
      "n\n",
      "a\n",
      "n\n",
      "a\n"
     ]
    }
   ],
   "source": [
    "for x in \"banana\":\n",
    "    print(x)"
   ]
  },
  {
   "cell_type": "markdown",
   "metadata": {},
   "source": [
    "Now use a list of numbers"
   ]
  },
  {
   "cell_type": "code",
   "execution_count": 5,
   "metadata": {},
   "outputs": [
    {
     "name": "stdout",
     "output_type": "stream",
     "text": [
      "6\n",
      "5\n",
      "3\n",
      "8\n",
      "4\n",
      "2\n",
      "5\n",
      "4\n",
      "11\n",
      "54\n",
      "98\n",
      "63\n",
      "52\n",
      "0\n",
      "3\n",
      "61\n",
      "3\n",
      "6\n",
      "17\n"
     ]
    }
   ],
   "source": [
    "x = [6, 5, 3, 8, 4, 2, 5, 4, 11, 54, 98, 63, 52, 0, 3, 61, 3, 6, 17]\n",
    "\n",
    "for i in x:\n",
    "    print(i)"
   ]
  },
  {
   "cell_type": "markdown",
   "metadata": {},
   "source": [
    "Compute the sum of all numbers in a list"
   ]
  },
  {
   "cell_type": "code",
   "execution_count": 6,
   "metadata": {},
   "outputs": [
    {
     "name": "stdout",
     "output_type": "stream",
     "text": [
      "The sum is 405\n"
     ]
    }
   ],
   "source": [
    "# Create a list wit numbers\n",
    "numbers = [6, 5, 3, 8, 4, 2, 5, 4, 11, 54, 98, 63, 52, 0, 3, 61, 3, 6, 17]\n",
    "\n",
    "# variable to store the sum\n",
    "sum = 0\n",
    "\n",
    "# iterate over the list\n",
    "for val in numbers:\n",
    "    sum = sum+val\n",
    "\n",
    "print(\"The sum is\", sum)"
   ]
  },
  {
   "cell_type": "markdown",
   "metadata": {},
   "source": [
    "# Using range()\n",
    "\n",
    "**range()** returns a sequence of numbers, starting from 0 by default, and increments by 1 (by default), and stops before a specified number.\n",
    "\n",
    "This is one example"
   ]
  },
  {
   "cell_type": "code",
   "execution_count": 7,
   "metadata": {},
   "outputs": [
    {
     "name": "stdout",
     "output_type": "stream",
     "text": [
      "1\n",
      "2\n",
      "3\n",
      "4\n",
      "5\n"
     ]
    }
   ],
   "source": [
    "for i in range(1,6,1):\n",
    "    print(i)"
   ]
  },
  {
   "cell_type": "markdown",
   "metadata": {},
   "source": [
    "Another example"
   ]
  },
  {
   "cell_type": "code",
   "execution_count": 8,
   "metadata": {},
   "outputs": [
    {
     "name": "stdout",
     "output_type": "stream",
     "text": [
      "0\n",
      "2\n",
      "4\n",
      "6\n",
      "8\n",
      "10\n"
     ]
    }
   ],
   "source": [
    "x = range(0,11,2)\n",
    "\n",
    "for i in x:\n",
    "    print(i)"
   ]
  },
  {
   "cell_type": "markdown",
   "metadata": {},
   "source": [
    "Compute the sum of all numbers from 1 up to 1000"
   ]
  },
  {
   "cell_type": "code",
   "execution_count": 9,
   "metadata": {},
   "outputs": [
    {
     "name": "stdout",
     "output_type": "stream",
     "text": [
      "The sum is 500500\n"
     ]
    }
   ],
   "source": [
    "# variable to store the sum\n",
    "sum = 0\n",
    "\n",
    "# iterate over the list\n",
    "for i in range(1,1001,1):\n",
    "    #sum = sum + i\n",
    "    sum += i # we can use the \"+=\" notation wich is a shortcut for sum=sum+i\n",
    "\n",
    "print(\"The sum is\", sum)\n",
    "\n"
   ]
  },
  {
   "cell_type": "markdown",
   "metadata": {},
   "source": [
    "# Enumerated Iteration"
   ]
  },
  {
   "cell_type": "code",
   "execution_count": 18,
   "metadata": {},
   "outputs": [
    {
     "name": "stdout",
     "output_type": "stream",
     "text": [
      "(0,) 1 3.0\n",
      "(1,) 2 5.0\n",
      "(2,) 3 7.0\n",
      "(3,) 4 9.0\n",
      "(4,) 5 11.0\n",
      "(5,) 6 13.0\n"
     ]
    }
   ],
   "source": [
    "import numpy as np\n",
    "\n",
    "arr = np.array([1, 2, 3, 4, 5, 6])\n",
    "S   = np.zeros( arr.shape )\n",
    "\n",
    "for idx, x in np.ndenumerate(arr):\n",
    "    S[idx] = 2*arr[idx]+1\n",
    "    print(idx, x, S[idx])"
   ]
  },
  {
   "cell_type": "markdown",
   "metadata": {},
   "source": [
    "# Interrupting loops\n",
    "\n",
    "**continue** will return to the beggining of the loop ignoring anything beyond. "
   ]
  },
  {
   "cell_type": "code",
   "execution_count": 19,
   "metadata": {
    "scrolled": true
   },
   "outputs": [
    {
     "name": "stdout",
     "output_type": "stream",
     "text": [
      "0\n",
      "1\n",
      "1 is a good number\n",
      "2\n",
      "2 is a good number\n",
      "3\n",
      "3 is a good number\n",
      "4\n",
      "4 is a good number\n",
      "5\n",
      "5 is a good number\n",
      "6\n",
      "6 is a good number\n",
      "7\n",
      "7 is a good number\n",
      "8\n",
      "8 is a good number\n",
      "9\n",
      "9 is a good number\n",
      "[1.0, 0.5, 0.3333333333333333, 0.25, 0.2, 0.16666666666666666, 0.14285714285714285, 0.125, 0.1111111111111111]\n"
     ]
    }
   ],
   "source": [
    "quotlist=[]\n",
    "\n",
    "for idx in range(10):\n",
    "    print(idx)\n",
    "    if idx==0:\n",
    "        continue\n",
    "    else:\n",
    "        print(\"%s is a good number\" % idx)\n",
    "        quotlist.append( 1./idx )\n",
    "        \n",
    "print(quotlist)"
   ]
  },
  {
   "cell_type": "markdown",
   "metadata": {},
   "source": [
    "**break** will kill the loop and return the execution to the command line."
   ]
  },
  {
   "cell_type": "code",
   "execution_count": 11,
   "metadata": {},
   "outputs": [
    {
     "name": "stdout",
     "output_type": "stream",
     "text": [
      "0\n",
      "1\n",
      "1 is a good number\n",
      "2\n",
      "2 is a good number\n",
      "3\n",
      "3 is a good number\n",
      "4\n",
      "4 is a good number\n",
      "5\n",
      "I only like numbers below 5\n",
      "[1.0, 0.5, 0.3333333333333333, 0.25]\n"
     ]
    }
   ],
   "source": [
    "quotlist=[]\n",
    "\n",
    "for idx in range(10):\n",
    "    print(idx)\n",
    "    if idx==0:\n",
    "        continue\n",
    "    elif idx<5:\n",
    "        print(\"%s is a good number\" % idx)\n",
    "        quotlist.append( 1./idx )\n",
    "    else:\n",
    "        print(\"I only like numbers below 5\")\n",
    "        break\n",
    "        \n",
    "print(quotlist)"
   ]
  },
  {
   "cell_type": "markdown",
   "metadata": {},
   "source": [
    "# HOMEWORK \n",
    "\n"
   ]
  }
 ],
 "metadata": {
  "anaconda-cloud": {},
  "kernelspec": {
   "display_name": "Python 3",
   "language": "python",
   "name": "python3"
  },
  "language_info": {
   "codemirror_mode": {
    "name": "ipython",
    "version": 3
   },
   "file_extension": ".py",
   "mimetype": "text/x-python",
   "name": "python",
   "nbconvert_exporter": "python",
   "pygments_lexer": "ipython3",
   "version": "3.8.3"
  }
 },
 "nbformat": 4,
 "nbformat_minor": 1
}
