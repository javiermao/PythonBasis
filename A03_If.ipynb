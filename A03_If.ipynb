{
 "cells": [
  {
   "cell_type": "markdown",
   "metadata": {},
   "source": [
    "# Python basis\n",
    "\n",
    "The notebook aims to introduce the fundamental basis of **Python**.\n"
   ]
  },
  {
   "cell_type": "markdown",
   "metadata": {},
   "source": [
    "# The \"if\" conditional statement\n",
    "\n",
    "**Python** uses the usual flow control statements. The **if conditional statement** evaluates an expression and executes statements if they fulfill.\n",
    "\n",
    "\n",
    "The syntax is:\n",
    "\n",
    "----------------------\n",
    "\n",
    "*if test expression:*\n",
    "\n",
    "    statement(s)\n",
    "\n",
    "----------------------\n",
    "\n",
    "*if test expression:*\n",
    "    \n",
    "    Body of if\n",
    "\n",
    "*else:*\n",
    "\n",
    "    Body of else\n",
    "    \n",
    "----------------------\n",
    "\n",
    "*if test expression:*\n",
    "\n",
    "    Body of if\n",
    "    \n",
    "*elif test expression:*\n",
    "\n",
    "    Body of elif\n",
    "    \n",
    "*else:*\n",
    "    \n",
    "    Body of else\n",
    "    \n",
    "----------------------\n",
    "\n",
    "\n",
    "Recall that **Python** supports the commun logical conditions from math:\n",
    "\n",
    "- Equals: `a == b`\n",
    "- Not Equals: `a != b`\n",
    "- Less than: `a < b`\n",
    "- Less than or equal to: `a <= b`\n",
    "- Greater than: `a > b`\n",
    "- Greater than or equal to: `a >= b`\n",
    "\n",
    "These logical conditionals can be used in several ways, most commonly in \"if statements\".\n"
   ]
  },
  {
   "cell_type": "markdown",
   "metadata": {},
   "source": [
    "# A simple example\n",
    "\n",
    "A simple if statement"
   ]
  },
  {
   "cell_type": "code",
   "execution_count": 1,
   "metadata": {},
   "outputs": [
    {
     "name": "stdout",
     "output_type": "stream",
     "text": [
      "b is greater than a\n"
     ]
    }
   ],
   "source": [
    "# Simple if example (note the indentation)\n",
    "a = 5\n",
    "b = 8.38\n",
    "\n",
    "if b > a:\n",
    "      print(\"b is greater than a\")"
   ]
  },
  {
   "cell_type": "code",
   "execution_count": 2,
   "metadata": {},
   "outputs": [
    {
     "name": "stdout",
     "output_type": "stream",
     "text": [
      "a is equal and greater than b\n"
     ]
    }
   ],
   "source": [
    "# Short Hand If\n",
    "a = 10\n",
    "b = 1.52\n",
    "\n",
    "if a >= b: print(\"a is equal and greater than b\")"
   ]
  },
  {
   "cell_type": "markdown",
   "metadata": {},
   "source": [
    "# Indentation\n",
    "\n",
    "<span style='color:Blue'> **Important remarks**  </span>\n",
    "\n",
    "It is importamt to know that **Python** relies on indentation (whitespace at the beginning of a line) to define scope in the code. Other programming languages often use curly-brackets for this purpose.\n",
    "\n",
    "Indentation is part of syntaxis ¡¡\n"
   ]
  },
  {
   "cell_type": "markdown",
   "metadata": {},
   "source": [
    "# If ... Else\n"
   ]
  },
  {
   "cell_type": "code",
   "execution_count": 3,
   "metadata": {},
   "outputs": [
    {
     "name": "stdout",
     "output_type": "stream",
     "text": [
      "Positive or Zero\n"
     ]
    }
   ],
   "source": [
    "x = 3\n",
    "\n",
    "if x >= 0:\n",
    "    print(\"Positive or Zero\")\n",
    "else:\n",
    "    print(\"Negative number\")"
   ]
  },
  {
   "cell_type": "markdown",
   "metadata": {},
   "source": [
    "# If ... Elif ... Else\n"
   ]
  },
  {
   "cell_type": "code",
   "execution_count": 4,
   "metadata": {},
   "outputs": [
    {
     "name": "stdout",
     "output_type": "stream",
     "text": [
      "a and b are equal\n"
     ]
    }
   ],
   "source": [
    "a = 5.5\n",
    "b = 5.5\n",
    "\n",
    "if b > a:\n",
    "      print(\"b is greater than a\")\n",
    "elif a == b:\n",
    "      print(\"a and b are equal\")"
   ]
  },
  {
   "cell_type": "code",
   "execution_count": 5,
   "metadata": {},
   "outputs": [
    {
     "name": "stdout",
     "output_type": "stream",
     "text": [
      "a is greater than b\n"
     ]
    }
   ],
   "source": [
    "a = 50\n",
    "b = 10\n",
    "if b > a:\n",
    "      print(\"b is greater than a\")\n",
    "elif a == b:\n",
    "      print(\"a and b are equal\")\n",
    "else:\n",
    "      print(\"a is greater than b\")"
   ]
  },
  {
   "cell_type": "code",
   "execution_count": null,
   "metadata": {},
   "outputs": [],
   "source": [
    "animalvar='dog'\n",
    "\n",
    "if animalvar=='cat':\n",
    "    print \"This little %s is cute\" % animalvar\n",
    "elif animalvar=='dog':\n",
    "    print \"This %s is bad-tempered\" % animalvar\n",
    "else:\n",
    "    print \"This whatever is weird\""
   ]
  },
  {
   "cell_type": "markdown",
   "metadata": {},
   "source": [
    "# Nested If"
   ]
  },
  {
   "cell_type": "code",
   "execution_count": 6,
   "metadata": {},
   "outputs": [
    {
     "name": "stdout",
     "output_type": "stream",
     "text": [
      "Above ten,\n",
      "and also above 20!\n"
     ]
    }
   ],
   "source": [
    "x = 41\n",
    "\n",
    "if x > 10:\n",
    "    print(\"Above ten,\")\n",
    "    if x > 20:\n",
    "        print(\"and also above 20!\")\n",
    "    else:\n",
    "        print(\"but not above 20.\")"
   ]
  },
  {
   "cell_type": "markdown",
   "metadata": {},
   "source": [
    "# Using \"and\" and \"or\" logical operators\n",
    "\n",
    "Logical operators are used in conditional statements:\n"
   ]
  },
  {
   "cell_type": "code",
   "execution_count": 7,
   "metadata": {},
   "outputs": [
    {
     "name": "stdout",
     "output_type": "stream",
     "text": [
      "Both conditions are True\n"
     ]
    }
   ],
   "source": [
    "a = 200\n",
    "b = 33\n",
    "c = 500\n",
    "if a > b and c > a:\n",
    "      print(\"Both conditions are True\")"
   ]
  },
  {
   "cell_type": "code",
   "execution_count": 8,
   "metadata": {},
   "outputs": [
    {
     "name": "stdout",
     "output_type": "stream",
     "text": [
      "At least one of the conditions is True\n"
     ]
    }
   ],
   "source": [
    "a = 200\n",
    "b = 33\n",
    "c = 500\n",
    "if a > b or a > c:\n",
    "      print(\"At least one of the conditions is True\")"
   ]
  },
  {
   "cell_type": "markdown",
   "metadata": {},
   "source": [
    "# The pass statement\n",
    "\n",
    "if statements cannot be empty, but if you for some reason have an if statement with no content, put in the pass statement to avoid getting an error."
   ]
  },
  {
   "cell_type": "code",
   "execution_count": 9,
   "metadata": {},
   "outputs": [],
   "source": [
    "a = 33\n",
    "b = 200\n",
    "\n",
    "if b > a:\n",
    "      pass\n",
    "\n"
   ]
  }
 ],
 "metadata": {
  "anaconda-cloud": {},
  "kernelspec": {
   "display_name": "Python 3",
   "language": "python",
   "name": "python3"
  },
  "language_info": {
   "codemirror_mode": {
    "name": "ipython",
    "version": 3
   },
   "file_extension": ".py",
   "mimetype": "text/x-python",
   "name": "python",
   "nbconvert_exporter": "python",
   "pygments_lexer": "ipython3",
   "version": "3.8.3"
  }
 },
 "nbformat": 4,
 "nbformat_minor": 1
}
